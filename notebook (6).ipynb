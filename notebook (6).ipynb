{
  "cells": [
    {
      "metadata": {
        "_cell_guid": "3f0b10d4-ec3a-44b0-bc97-22e886208f60",
        "_uuid": "a27d986492bf956d83f3555d2d17cb0147748780",
        "collapsed": true,
        "trusted": true
      },
      "cell_type": "code",
      "source": "import pandas as pd\nimport numpy as np\nimport matplotlib.pyplot as plt\nfrom sklearn.ensemble import RandomForestClassifier\nfrom sklearn.model_selection import KFold\nfrom sklearn.model_selection import cross_val_score",
      "execution_count": 1,
      "outputs": []
    },
    {
      "metadata": {
        "_cell_guid": "c648669c-8075-4b68-b500-6201c51f0862",
        "_uuid": "5256bd343867dff780d483376e25ccae947136c6",
        "collapsed": true,
        "trusted": true
      },
      "cell_type": "code",
      "source": "Data=pd.read_csv(r'../input/globalterrorismdb.csv',encoding='ISO-8859-1',low_memory=False)",
      "execution_count": 2,
      "outputs": []
    },
    {
      "metadata": {
        "_cell_guid": "4e2a197e-668d-47c3-8725-9570ebc39631",
        "_uuid": "bb3744d3d89021c81040c5d63b5de531f1ad9ba2"
      },
      "cell_type": "markdown",
      "source": "Now, we will see the features with  missing values greater than 100,000 and sort them."
    },
    {
      "metadata": {
        "_cell_guid": "f73b837e-d5e8-4cc3-b5a6-2bab7ce94259",
        "_uuid": "b62c7a96125ecd98d4547cdc29c49197d9d55b65",
        "scrolled": true,
        "trusted": true
      },
      "cell_type": "code",
      "source": "missing = Data.isnull().sum()\nmissing = missing[missing > 100000]\nmissing.sort_values(inplace=True)\nmissing.head(10)",
      "execution_count": 3,
      "outputs": [
        {
          "output_type": "execute_result",
          "execution_count": 3,
          "data": {
            "text/plain": "scite2             100765\npropextent         109805\npropextent_txt     109805\npropcomment        115919\nmotive             121764\nlocation           122376\nscite3             131133\npropvalue          134863\nalternative        143719\nalternative_txt    143719\ndtype: int64"
          },
          "metadata": {}
        }
      ]
    },
    {
      "metadata": {
        "_cell_guid": "2a8ac68a-69f6-4a90-a03f-8326ea9dd85d",
        "_uuid": "f412276afb44b5073a6598ae11a9aff7042d2fed"
      },
      "cell_type": "markdown",
      "source": "Let's drop the features with missing values  more than 100,000"
    },
    {
      "metadata": {
        "_cell_guid": "3cc35553-b02c-4701-8255-c36412840ffb",
        "_uuid": "f965360cb746bc77aeeb3b40019e73541d6e10b2",
        "collapsed": true,
        "trusted": true
      },
      "cell_type": "code",
      "source": "Data.drop(missing[missing>100000].index,axis=1,inplace=True)",
      "execution_count": 4,
      "outputs": []
    },
    {
      "metadata": {
        "_cell_guid": "5a5175fa-dea0-4771-84b7-373aa3a562fa",
        "_uuid": "a40b13a339460c2e898d5d81ced7661ee2da7c0c"
      },
      "cell_type": "markdown",
      "source": "We will also drop features which are explaining the features as we have the encoded feature of the same."
    },
    {
      "metadata": {
        "_cell_guid": "88d4f580-8eed-44ac-bb19-38c90825f921",
        "_uuid": "7373b167cc99286edbcd358e34042a19bdc13cd6",
        "collapsed": true,
        "trusted": true
      },
      "cell_type": "code",
      "source": "Data.drop(['country_txt','region_txt','attacktype1_txt',\n           'targtype1_txt','natlty1_txt','targsubtype1_txt','weaptype1_txt','weapsubtype1_txt'],axis=1,inplace=True)",
      "execution_count": 5,
      "outputs": []
    },
    {
      "metadata": {
        "_cell_guid": "7e2a7653-a899-4198-8c9e-0bdde825daa2",
        "_uuid": "c4fc2043086fd6e233a91061b9663428420815cd",
        "trusted": true
      },
      "cell_type": "code",
      "source": "#Finding the categorical variables\nCateg = [f for f in Data.columns if Data.dtypes[f] == 'object']\nCateg",
      "execution_count": 6,
      "outputs": [
        {
          "output_type": "execute_result",
          "execution_count": 6,
          "data": {
            "text/plain": "['provstate',\n 'city',\n 'summary',\n 'corp1',\n 'target1',\n 'gname',\n 'weapdetail',\n 'scite1',\n 'dbsource']"
          },
          "metadata": {}
        }
      ]
    },
    {
      "metadata": {
        "_cell_guid": "abec14a2-1e34-4ef8-a80f-6b24cc76f8f2",
        "_uuid": "3ea9cd76731c4422941f656befeecd48053c838a"
      },
      "cell_type": "markdown",
      "source": "In our Target variable  **'gname' **, we have around 1700 group names where we have only 1 row for the corresponding group name.\nSo, we will create duplicate rows for these group names as we will only use half of the dataset and we don't want some of the group names missing."
    },
    {
      "metadata": {
        "_cell_guid": "362cfc0e-ed10-40f0-acbd-49c2403805a6",
        "_uuid": "d6a9731fec090f6c695ac55f18de198e8127e6d7",
        "collapsed": true,
        "trusted": true
      },
      "cell_type": "code",
      "source": "z=Data['gname'].value_counts().to_frame()\nM=z['gname'][z['gname']==1]\nM=M.to_frame()\nM['groupname']=M.index\ndel missing",
      "execution_count": 7,
      "outputs": []
    },
    {
      "metadata": {
        "_cell_guid": "407e1786-208b-4262-a81b-49353ca89f54",
        "_uuid": "1d8a7056fd29933e5bc8b2bf7363840c116540e0",
        "collapsed": true,
        "trusted": true
      },
      "cell_type": "code",
      "source": "for i in M['groupname']:\n    A=Data['gname']==i\n    df=Data[A]\n    Data=Data.append([df]*4,ignore_index=True)",
      "execution_count": 8,
      "outputs": []
    },
    {
      "metadata": {
        "_cell_guid": "b67a03d7-e9f1-4b80-ab53-5f964ba2d650",
        "_uuid": "0d37b6a795ac34dc8805ba0ffafbad4401a08382",
        "collapsed": true,
        "trusted": true
      },
      "cell_type": "code",
      "source": "#Double checking to have a minimum 4 rows for every gname name \naa=Data['gname'].value_counts().to_frame()\nbb=aa['gname'][aa['gname']<4]\nbb=bb.to_frame()\nbb['groupname']=bb.index",
      "execution_count": 9,
      "outputs": []
    },
    {
      "metadata": {
        "_cell_guid": "d8d32470-d3ec-4e23-a1a3-39bf9cd1eaca",
        "_uuid": "4f55ea8bb07045765ed1b383aa7a9393a5575302",
        "collapsed": true,
        "trusted": true
      },
      "cell_type": "code",
      "source": "for i in bb['groupname']:\n    A=Data['gname']==i\n    df=Data[A]\n    Data=Data.append([df]*2,ignore_index=True)",
      "execution_count": 10,
      "outputs": []
    },
    {
      "metadata": {
        "_cell_guid": "6d46fb52-c9a7-4fa4-b297-53eddf7a75d3",
        "_uuid": "aa8db8ef9f36b35ac4072968af48143a46a33cf4",
        "collapsed": true,
        "trusted": true
      },
      "cell_type": "code",
      "source": "#Let's encode categorical variables with numbers\nx=Data[Categ].apply(lambda x: pd.factorize(x)[0])",
      "execution_count": 11,
      "outputs": []
    },
    {
      "metadata": {
        "_cell_guid": "f218f2f0-266c-49a1-b229-1ec0baa0691d",
        "_uuid": "72a2b8db09e5d97ecd097578514585afe24c8731",
        "collapsed": true,
        "trusted": true
      },
      "cell_type": "code",
      "source": "#Updating our main dataframe with encoded categorical features\nfor i in Categ:\n    Data[i]=x[i]",
      "execution_count": 12,
      "outputs": []
    },
    {
      "metadata": {
        "_cell_guid": "3f020050-dcd6-4ab8-a4e1-ce78d67e1e13",
        "_uuid": "cf68005d482bb3dcbbc740aef19b45bc25210685",
        "trusted": true
      },
      "cell_type": "code",
      "source": "#Filling missing values with the mode of the feature\nData=Data.fillna(Data.mode().iloc[0])\ndel Categ\nData.head()",
      "execution_count": 13,
      "outputs": [
        {
          "output_type": "execute_result",
          "execution_count": 13,
          "data": {
            "text/plain": "        eventid  iyear  imonth  iday  extended  country  region  provstate  \\\n0  197000000001   1970       7     2         0       58       2         -1   \n1  197000000002   1970       0     0         0      130       1         -1   \n2  197001000001   1970       1     0         0      160       5          0   \n3  197001000002   1970       1     0         0       78       8          1   \n4  197001000003   1970       1     0         0      101       4         -1   \n\n   city   latitude   ...     nwoundte  property  ishostkid  ransom  scite1  \\\n0     0  18.456792   ...          0.0         0        0.0     0.0      -1   \n1     1  19.432608   ...          0.0         0        1.0     1.0      -1   \n2     2  15.478598   ...          0.0         0        0.0     0.0      -1   \n3     3  37.983773   ...          0.0         1        0.0     0.0      -1   \n4     4  33.580412   ...          0.0         1        0.0     0.0      -1   \n\n   dbsource  INT_LOG  INT_IDEO  INT_MISC  INT_ANY  \n0         0        0         0         0        0  \n1         0        0         1         1        1  \n2         0       -9        -9         1        1  \n3         0       -9        -9         1        1  \n4         0       -9        -9         1        1  \n\n[5 rows x 51 columns]",
            "text/html": "<div>\n<style scoped>\n    .dataframe tbody tr th:only-of-type {\n        vertical-align: middle;\n    }\n\n    .dataframe tbody tr th {\n        vertical-align: top;\n    }\n\n    .dataframe thead th {\n        text-align: right;\n    }\n</style>\n<table border=\"1\" class=\"dataframe\">\n  <thead>\n    <tr style=\"text-align: right;\">\n      <th></th>\n      <th>eventid</th>\n      <th>iyear</th>\n      <th>imonth</th>\n      <th>iday</th>\n      <th>extended</th>\n      <th>country</th>\n      <th>region</th>\n      <th>provstate</th>\n      <th>city</th>\n      <th>latitude</th>\n      <th>...</th>\n      <th>nwoundte</th>\n      <th>property</th>\n      <th>ishostkid</th>\n      <th>ransom</th>\n      <th>scite1</th>\n      <th>dbsource</th>\n      <th>INT_LOG</th>\n      <th>INT_IDEO</th>\n      <th>INT_MISC</th>\n      <th>INT_ANY</th>\n    </tr>\n  </thead>\n  <tbody>\n    <tr>\n      <th>0</th>\n      <td>197000000001</td>\n      <td>1970</td>\n      <td>7</td>\n      <td>2</td>\n      <td>0</td>\n      <td>58</td>\n      <td>2</td>\n      <td>-1</td>\n      <td>0</td>\n      <td>18.456792</td>\n      <td>...</td>\n      <td>0.0</td>\n      <td>0</td>\n      <td>0.0</td>\n      <td>0.0</td>\n      <td>-1</td>\n      <td>0</td>\n      <td>0</td>\n      <td>0</td>\n      <td>0</td>\n      <td>0</td>\n    </tr>\n    <tr>\n      <th>1</th>\n      <td>197000000002</td>\n      <td>1970</td>\n      <td>0</td>\n      <td>0</td>\n      <td>0</td>\n      <td>130</td>\n      <td>1</td>\n      <td>-1</td>\n      <td>1</td>\n      <td>19.432608</td>\n      <td>...</td>\n      <td>0.0</td>\n      <td>0</td>\n      <td>1.0</td>\n      <td>1.0</td>\n      <td>-1</td>\n      <td>0</td>\n      <td>0</td>\n      <td>1</td>\n      <td>1</td>\n      <td>1</td>\n    </tr>\n    <tr>\n      <th>2</th>\n      <td>197001000001</td>\n      <td>1970</td>\n      <td>1</td>\n      <td>0</td>\n      <td>0</td>\n      <td>160</td>\n      <td>5</td>\n      <td>0</td>\n      <td>2</td>\n      <td>15.478598</td>\n      <td>...</td>\n      <td>0.0</td>\n      <td>0</td>\n      <td>0.0</td>\n      <td>0.0</td>\n      <td>-1</td>\n      <td>0</td>\n      <td>-9</td>\n      <td>-9</td>\n      <td>1</td>\n      <td>1</td>\n    </tr>\n    <tr>\n      <th>3</th>\n      <td>197001000002</td>\n      <td>1970</td>\n      <td>1</td>\n      <td>0</td>\n      <td>0</td>\n      <td>78</td>\n      <td>8</td>\n      <td>1</td>\n      <td>3</td>\n      <td>37.983773</td>\n      <td>...</td>\n      <td>0.0</td>\n      <td>1</td>\n      <td>0.0</td>\n      <td>0.0</td>\n      <td>-1</td>\n      <td>0</td>\n      <td>-9</td>\n      <td>-9</td>\n      <td>1</td>\n      <td>1</td>\n    </tr>\n    <tr>\n      <th>4</th>\n      <td>197001000003</td>\n      <td>1970</td>\n      <td>1</td>\n      <td>0</td>\n      <td>0</td>\n      <td>101</td>\n      <td>4</td>\n      <td>-1</td>\n      <td>4</td>\n      <td>33.580412</td>\n      <td>...</td>\n      <td>0.0</td>\n      <td>1</td>\n      <td>0.0</td>\n      <td>0.0</td>\n      <td>-1</td>\n      <td>0</td>\n      <td>-9</td>\n      <td>-9</td>\n      <td>1</td>\n      <td>1</td>\n    </tr>\n  </tbody>\n</table>\n<p>5 rows × 51 columns</p>\n</div>"
          },
          "metadata": {}
        }
      ]
    },
    {
      "metadata": {
        "_cell_guid": "9cbee817-6998-45bd-a21d-89b6e599b41b",
        "_uuid": "1ecb9418321ff624e35e22c834daeafeba970136",
        "trusted": true
      },
      "cell_type": "code",
      "source": "Data.corr()['gname'].head()",
      "execution_count": 14,
      "outputs": [
        {
          "output_type": "execute_result",
          "execution_count": 14,
          "data": {
            "text/plain": "eventid     0.312814\niyear       0.312780\nimonth      0.013099\niday        0.006893\nextended    0.134767\nName: gname, dtype: float64"
          },
          "metadata": {}
        }
      ]
    },
    {
      "metadata": {
        "_cell_guid": "0552b645-3c1b-47a8-a99e-1cacae98900c",
        "_uuid": "c9a3fcbead222ce8f10016045c7412c41bc5ef39",
        "trusted": true
      },
      "cell_type": "code",
      "source": "#Creating final dataframe with features having correlation greater than 0.1 with target variable 'gname'\nData_final=Data[Data.corr()['gname'][Data.corr()['gname']>0.1].index]\nData_final.head()",
      "execution_count": 15,
      "outputs": [
        {
          "output_type": "execute_result",
          "execution_count": 15,
          "data": {
            "text/plain": "        eventid  iyear  extended  region  provstate  city   longitude  \\\n0  197000000001   1970         0       2         -1     0  -69.951164   \n1  197000000002   1970         0       1         -1     1  -99.133207   \n2  197001000001   1970         0       5          0     2  120.599741   \n3  197001000002   1970         0       8          1     3   23.728157   \n4  197001000003   1970         0       4         -1     4  130.396361   \n\n   summary  doubtterr  multiple   ...     guncertain1  claimed  weaptype1  \\\n0       -1          0         0   ...             0.0      0.0         13   \n1       -1          0         0   ...             0.0      0.0         13   \n2       -1          0         0   ...             0.0      0.0         13   \n3       -1          0         0   ...             0.0      0.0          6   \n4       -1         -9         0   ...             0.0      0.0          8   \n\n   weapdetail  nkillter  scite1  dbsource  INT_LOG  INT_IDEO  INT_ANY  \n0          -1       0.0      -1         0        0         0        0  \n1          -1       0.0      -1         0        0         1        1  \n2          -1       0.0      -1         0       -9        -9        1  \n3           0       0.0      -1         0       -9        -9        1  \n4           1       0.0      -1         0       -9        -9        1  \n\n[5 rows x 25 columns]",
            "text/html": "<div>\n<style scoped>\n    .dataframe tbody tr th:only-of-type {\n        vertical-align: middle;\n    }\n\n    .dataframe tbody tr th {\n        vertical-align: top;\n    }\n\n    .dataframe thead th {\n        text-align: right;\n    }\n</style>\n<table border=\"1\" class=\"dataframe\">\n  <thead>\n    <tr style=\"text-align: right;\">\n      <th></th>\n      <th>eventid</th>\n      <th>iyear</th>\n      <th>extended</th>\n      <th>region</th>\n      <th>provstate</th>\n      <th>city</th>\n      <th>longitude</th>\n      <th>summary</th>\n      <th>doubtterr</th>\n      <th>multiple</th>\n      <th>...</th>\n      <th>guncertain1</th>\n      <th>claimed</th>\n      <th>weaptype1</th>\n      <th>weapdetail</th>\n      <th>nkillter</th>\n      <th>scite1</th>\n      <th>dbsource</th>\n      <th>INT_LOG</th>\n      <th>INT_IDEO</th>\n      <th>INT_ANY</th>\n    </tr>\n  </thead>\n  <tbody>\n    <tr>\n      <th>0</th>\n      <td>197000000001</td>\n      <td>1970</td>\n      <td>0</td>\n      <td>2</td>\n      <td>-1</td>\n      <td>0</td>\n      <td>-69.951164</td>\n      <td>-1</td>\n      <td>0</td>\n      <td>0</td>\n      <td>...</td>\n      <td>0.0</td>\n      <td>0.0</td>\n      <td>13</td>\n      <td>-1</td>\n      <td>0.0</td>\n      <td>-1</td>\n      <td>0</td>\n      <td>0</td>\n      <td>0</td>\n      <td>0</td>\n    </tr>\n    <tr>\n      <th>1</th>\n      <td>197000000002</td>\n      <td>1970</td>\n      <td>0</td>\n      <td>1</td>\n      <td>-1</td>\n      <td>1</td>\n      <td>-99.133207</td>\n      <td>-1</td>\n      <td>0</td>\n      <td>0</td>\n      <td>...</td>\n      <td>0.0</td>\n      <td>0.0</td>\n      <td>13</td>\n      <td>-1</td>\n      <td>0.0</td>\n      <td>-1</td>\n      <td>0</td>\n      <td>0</td>\n      <td>1</td>\n      <td>1</td>\n    </tr>\n    <tr>\n      <th>2</th>\n      <td>197001000001</td>\n      <td>1970</td>\n      <td>0</td>\n      <td>5</td>\n      <td>0</td>\n      <td>2</td>\n      <td>120.599741</td>\n      <td>-1</td>\n      <td>0</td>\n      <td>0</td>\n      <td>...</td>\n      <td>0.0</td>\n      <td>0.0</td>\n      <td>13</td>\n      <td>-1</td>\n      <td>0.0</td>\n      <td>-1</td>\n      <td>0</td>\n      <td>-9</td>\n      <td>-9</td>\n      <td>1</td>\n    </tr>\n    <tr>\n      <th>3</th>\n      <td>197001000002</td>\n      <td>1970</td>\n      <td>0</td>\n      <td>8</td>\n      <td>1</td>\n      <td>3</td>\n      <td>23.728157</td>\n      <td>-1</td>\n      <td>0</td>\n      <td>0</td>\n      <td>...</td>\n      <td>0.0</td>\n      <td>0.0</td>\n      <td>6</td>\n      <td>0</td>\n      <td>0.0</td>\n      <td>-1</td>\n      <td>0</td>\n      <td>-9</td>\n      <td>-9</td>\n      <td>1</td>\n    </tr>\n    <tr>\n      <th>4</th>\n      <td>197001000003</td>\n      <td>1970</td>\n      <td>0</td>\n      <td>4</td>\n      <td>-1</td>\n      <td>4</td>\n      <td>130.396361</td>\n      <td>-1</td>\n      <td>-9</td>\n      <td>0</td>\n      <td>...</td>\n      <td>0.0</td>\n      <td>0.0</td>\n      <td>8</td>\n      <td>1</td>\n      <td>0.0</td>\n      <td>-1</td>\n      <td>0</td>\n      <td>-9</td>\n      <td>-9</td>\n      <td>1</td>\n    </tr>\n  </tbody>\n</table>\n<p>5 rows × 25 columns</p>\n</div>"
          },
          "metadata": {}
        }
      ]
    },
    {
      "metadata": {
        "_cell_guid": "50019425-c69f-4d14-a35a-1981ca3d0e01",
        "_uuid": "5bf98add6f72fcc6d2fb82227aeb26a95bcf2b4b",
        "collapsed": true,
        "trusted": true
      },
      "cell_type": "code",
      "source": "y=Data_final['gname']",
      "execution_count": 16,
      "outputs": []
    },
    {
      "metadata": {
        "_cell_guid": "ba84f100-bb7d-4d50-9248-0b7e9509c86a",
        "_uuid": "edfc3b18241a5aa15575c55566d274c46b3d0cbb",
        "trusted": true
      },
      "cell_type": "code",
      "source": "Data_final.drop('gname',axis=1,inplace=True)",
      "execution_count": 17,
      "outputs": [
        {
          "output_type": "stream",
          "text": "/opt/conda/lib/python3.6/site-packages/ipykernel_launcher.py:1: SettingWithCopyWarning: \nA value is trying to be set on a copy of a slice from a DataFrame\n\nSee the caveats in the documentation: http://pandas.pydata.org/pandas-docs/stable/indexing.html#indexing-view-versus-copy\n  \"\"\"Entry point for launching an IPython kernel.\n",
          "name": "stderr"
        }
      ]
    },
    {
      "metadata": {
        "_cell_guid": "a6ab59ae-c9c1-475d-8982-a69def19dd21",
        "_uuid": "e1e8538714a622f5a9be2793d0f11b6b911b25df",
        "collapsed": true,
        "trusted": true
      },
      "cell_type": "code",
      "source": "X=Data_final",
      "execution_count": 18,
      "outputs": []
    },
    {
      "metadata": {
        "_cell_guid": "ec6fecc0-4167-4da2-956c-ad736424fe8d",
        "_uuid": "9d11ef10c53bc39ecf712994a7e2800127b211a0",
        "trusted": true
      },
      "cell_type": "code",
      "source": "#Splitting the dataset into half as we will use only half of it for our model\nfrom sklearn.model_selection import train_test_split\nX_train1, X_test1, y_train1, y_test1 = train_test_split(X, y,train_size=0.5,stratify=y,random_state=42)",
      "execution_count": 19,
      "outputs": [
        {
          "output_type": "stream",
          "text": "/opt/conda/lib/python3.6/site-packages/sklearn/model_selection/_split.py:2026: FutureWarning: From version 0.21, test_size will always complement train_size unless both are specified.\n  FutureWarning)\n",
          "name": "stderr"
        }
      ]
    },
    {
      "metadata": {
        "_cell_guid": "13b293a9-e9b4-47b5-946e-0c5eacf3c211",
        "_uuid": "409aacbfec8d551fcb3899c06ff879c47c6fd412",
        "collapsed": true,
        "trusted": true
      },
      "cell_type": "code",
      "source": "del z,M,aa,bb,X_test1, y_test1\ndel X,y, Data_final,Data",
      "execution_count": 20,
      "outputs": []
    },
    {
      "metadata": {
        "_cell_guid": "0eaaeb1f-9b67-435a-b264-38119b31add5",
        "_uuid": "388331ab67c430aa90a42d550fd6f6ff5e92dc01",
        "trusted": false,
        "collapsed": true
      },
      "cell_type": "code",
      "source": "#Let's see the important features of our model\nforest = RandomForestClassifier(n_estimators=20,max_features=None,criterion='entropy',random_state=2)\nforest.fit(X_train1, y_train1)\nimportances = forest.feature_importances_\n",
      "execution_count": null,
      "outputs": []
    },
    {
      "metadata": {
        "_cell_guid": "e52ac50a-80ff-47ac-b22f-217dd37d1a71",
        "_uuid": "a0f163c694d14fdb6cfac785fd55c32371aecd81",
        "collapsed": true,
        "trusted": false
      },
      "cell_type": "code",
      "source": "std = np.std([tree.feature_importances_ for tree in forest.estimators_],\n             axis=0)\nindices = np.argsort(importances)[::-1]",
      "execution_count": null,
      "outputs": []
    },
    {
      "metadata": {
        "_cell_guid": "db1181fc-026f-4395-9fea-5d279c76e88f",
        "_uuid": "46e21e855732d755142db1abfd9a806bad3caa4a",
        "trusted": false,
        "collapsed": true
      },
      "cell_type": "code",
      "source": "print(\"Feature ranking:\")\n\nfor f in range(X_train1.shape[1]):\n    print(\"%d. feature %d (%f)\" % (f + 1, indices[f], importances[indices[f]]))\n\n# Plotting the feature importances of the forest    \nplt.figure()\nplt.title(\"Feature importances\")\nplt.bar(range(X_train1.shape[1]), importances[indices],\n       color=\"r\", yerr=std[indices], align=\"center\")\nplt.xticks(range(X_train1.shape[1]), indices)\nplt.xlim([-1, X_train1.shape[1]])\nplt.show()",
      "execution_count": null,
      "outputs": []
    },
    {
      "metadata": {
        "_cell_guid": "0ffbc12d-9c25-4c3d-addd-f94e0490bcd7",
        "_uuid": "8729c6553423714d3b3e958f9cb52a7a851bc197",
        "collapsed": true,
        "trusted": false
      },
      "cell_type": "code",
      "source": "#from sklearn.model_selection import GridSearchCV\n#param_grid = { 'n_estimators': [10,100],'max_features': ['auto', 'sqrt', 'log2'] }\n#forest = RandomForestClassifier()\n#grid_search = GridSearchCV(forest, param_grid, cv=5)\n#grid_search.fit(X_train, y_train)\n#print(\"Train set score: {:.2f}\".format(grid_search.score(X_train, y_train)))\n#print(\"Test set score: {:.2f}\".format(grid_search.score(X_test, y_test)))",
      "execution_count": null,
      "outputs": []
    },
    {
      "metadata": {
        "_cell_guid": "a5bd8601-29cb-43b5-bd3f-ed78dec1a92f",
        "_uuid": "2a686201e9fe59c362d998c3d064185e9448ba72",
        "collapsed": true,
        "trusted": true
      },
      "cell_type": "code",
      "source": "#we will use the top six features for our model\ntemp=X_train1[['region','provstate','longitude','eventid','INT_LOG','scite1']]",
      "execution_count": 21,
      "outputs": []
    },
    {
      "metadata": {
        "_cell_guid": "08342055-2b6c-42ab-885c-0c1807328b1b",
        "_uuid": "bc4e85d1323fc6e51a1177a68979babf8b59c644",
        "collapsed": true,
        "trusted": true
      },
      "cell_type": "code",
      "source": "del X_train1",
      "execution_count": 22,
      "outputs": []
    },
    {
      "metadata": {
        "_cell_guid": "51a585bc-b491-45d2-b21a-d7eb51daadfd",
        "_uuid": "7da5e92ee28063d37d0ba5a4b6c2e17e54bfa75b",
        "trusted": true
      },
      "cell_type": "code",
      "source": "kfold = KFold(n_splits=5, shuffle=True, random_state=0)\nforest = RandomForestClassifier(n_estimators=20,max_features=None,criterion='entropy',random_state=2)\nprint(\"Cross-validation scores:\\n{}\".format(cross_val_score(forest, temp, y_train1, cv=kfold)))",
      "execution_count": 25,
      "outputs": [
        {
          "output_type": "stream",
          "text": "Cross-validation scores:\n[0.8581796  0.86128192 0.8583458  0.86045094 0.85790261]\n",
          "name": "stdout"
        }
      ]
    },
    {
      "metadata": {
        "_cell_guid": "a4fb0aaa-2058-413d-a61a-2ce126cef779",
        "_uuid": "e5cb78884fce19313729f8845db7b858b1194f57",
        "collapsed": true,
        "trusted": false
      },
      "cell_type": "code",
      "source": "",
      "execution_count": null,
      "outputs": []
    }
  ],
  "metadata": {
    "language_info": {
      "name": "python",
      "version": "3.6.4",
      "mimetype": "text/x-python",
      "codemirror_mode": {
        "name": "ipython",
        "version": 3
      },
      "pygments_lexer": "ipython3",
      "nbconvert_exporter": "python",
      "file_extension": ".py"
    },
    "kernelspec": {
      "display_name": "Python 3",
      "language": "python",
      "name": "python3"
    }
  },
  "nbformat": 4,
  "nbformat_minor": 1
}