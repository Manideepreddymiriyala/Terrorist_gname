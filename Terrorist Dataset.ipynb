{
 "cells": [
  {
   "cell_type": "markdown",
   "metadata": {
    "slideshow": {
     "slide_type": "-"
    }
   },
   "source": [
    "# Terrorist Dataset"
   ]
  },
  {
   "cell_type": "markdown",
   "metadata": {
    "collapsed": true
   },
   "source": [
    "Lets import all the necessary libraries"
   ]
  },
  {
   "cell_type": "code",
   "execution_count": 1,
   "metadata": {
    "collapsed": false
   },
   "outputs": [
    {
     "name": "stderr",
     "output_type": "stream",
     "text": [
      "/home/miriyalamanideep92/anaconda3/lib/python3.5/importlib/_bootstrap.py:222: RuntimeWarning: numpy.dtype size changed, may indicate binary incompatibility. Expected 96, got 88\n",
      "  return f(*args, **kwds)\n",
      "/home/miriyalamanideep92/anaconda3/lib/python3.5/importlib/_bootstrap.py:222: RuntimeWarning: numpy.dtype size changed, may indicate binary incompatibility. Expected 96, got 88\n",
      "  return f(*args, **kwds)\n"
     ]
    }
   ],
   "source": [
    "import pandas as pd\n",
    "import gc \n",
    "import numpy as np\n",
    "%matplotlib inline\n",
    "import matplotlib.pyplot as plt\n",
    "from sklearn.ensemble import RandomForestClassifier\n",
    "#from sklearn.model_selection import KFold\n",
    "#from sklearn.model_selection import cross_val_score\n",
    "import os\n",
    "import psutil\n",
    "import time\n",
    "gc.enable()"
   ]
  },
  {
   "cell_type": "code",
   "execution_count": 2,
   "metadata": {
    "collapsed": false
   },
   "outputs": [
    {
     "name": "stdout",
     "output_type": "stream",
     "text": [
      "Total memory in use before reading data: 0.11 GB \n"
     ]
    }
   ],
   "source": [
    "process = psutil.Process(os.getpid())\n",
    "memused = process.memory_info().rss\n",
    "print('Total memory in use before reading data: {:.02f} GB '\n",
    "      ''.format(memused / (2 ** 30)))"
   ]
  },
  {
   "cell_type": "markdown",
   "metadata": {
    "collapsed": true
   },
   "source": [
    "Importing the data in CSV as it occupies less memory and load faster compared to xlsx"
   ]
  },
  {
   "cell_type": "code",
   "execution_count": 3,
   "metadata": {
    "collapsed": false
   },
   "outputs": [],
   "source": [
    "Data = pd.read_csv(\"globalterrorismdb.csv\",encoding='ISO-8859-1',low_memory=False)"
   ]
  },
  {
   "cell_type": "code",
   "execution_count": 4,
   "metadata": {
    "collapsed": false
   },
   "outputs": [
    {
     "name": "stdout",
     "output_type": "stream",
     "text": [
      "Total memory in use after reading data: 0.55 GB \n"
     ]
    }
   ],
   "source": [
    "memused = process.memory_info().rss\n",
    "print('Total memory in use after reading data: {:.02f} GB '\n",
    "      ''.format(memused / (2 ** 30)))"
   ]
  },
  {
   "cell_type": "markdown",
   "metadata": {},
   "source": [
    "# Preprocessing the dataset"
   ]
  },
  {
   "cell_type": "code",
   "execution_count": 5,
   "metadata": {
    "collapsed": false
   },
   "outputs": [
    {
     "data": {
      "text/plain": [
       "eventid            0\n",
       "iyear              0\n",
       "imonth             0\n",
       "iday               0\n",
       "approxdate    162886\n",
       "dtype: int64"
      ]
     },
     "execution_count": 5,
     "metadata": {},
     "output_type": "execute_result"
    }
   ],
   "source": [
    "missing = Data.isnull().sum()\n",
    "missing.head()"
   ]
  },
  {
   "cell_type": "code",
   "execution_count": 6,
   "metadata": {
    "collapsed": false
   },
   "outputs": [
    {
     "data": {
      "text/plain": [
       "scite2             100765\n",
       "propextent         109805\n",
       "propextent_txt     109805\n",
       "propcomment        115919\n",
       "motive             121764\n",
       "location           122376\n",
       "scite3             131133\n",
       "propvalue          134863\n",
       "alternative        143719\n",
       "alternative_txt    143719\n",
       "dtype: int64"
      ]
     },
     "execution_count": 6,
     "metadata": {},
     "output_type": "execute_result"
    }
   ],
   "source": [
    "missing = missing[missing > 100000]\n",
    "missing.sort_values(inplace=True)\n",
    "missing.head(10)"
   ]
  },
  {
   "cell_type": "code",
   "execution_count": 7,
   "metadata": {
    "collapsed": false
   },
   "outputs": [
    {
     "data": {
      "text/plain": [
       "76"
      ]
     },
     "execution_count": 7,
     "metadata": {},
     "output_type": "execute_result"
    }
   ],
   "source": [
    "missing.value_counts().sum()"
   ]
  },
  {
   "cell_type": "code",
   "execution_count": 8,
   "metadata": {
    "collapsed": false
   },
   "outputs": [],
   "source": [
    "#Dropping the columns with missing values more than 100,000 rows\n",
    "Data.drop(missing[missing>100000].index,axis=1,inplace=True)"
   ]
  },
  {
   "cell_type": "code",
   "execution_count": 9,
   "metadata": {
    "collapsed": true
   },
   "outputs": [],
   "source": [
    "#Dropping the text columns of few features as we already have their corresponding encodings\n",
    "Data.drop(['country_txt','region_txt','attacktype1_txt',\n",
    "           'targtype1_txt','natlty1_txt','targsubtype1_txt','weaptype1_txt','weapsubtype1_txt'],axis=1,inplace=True)"
   ]
  },
  {
   "cell_type": "code",
   "execution_count": 10,
   "metadata": {
    "collapsed": false
   },
   "outputs": [
    {
     "data": {
      "text/plain": [
       "['provstate',\n",
       " 'city',\n",
       " 'summary',\n",
       " 'corp1',\n",
       " 'target1',\n",
       " 'gname',\n",
       " 'weapdetail',\n",
       " 'scite1',\n",
       " 'dbsource']"
      ]
     },
     "execution_count": 10,
     "metadata": {},
     "output_type": "execute_result"
    }
   ],
   "source": [
    "Categ = [f for f in Data.columns if Data.dtypes[f] == 'object']\n",
    "Categ"
   ]
  },
  {
   "cell_type": "code",
   "execution_count": 11,
   "metadata": {
    "collapsed": true
   },
   "outputs": [],
   "source": [
    "#Encoding the remaining categorical features\n",
    "x=Data[Categ].apply(lambda x: pd.factorize(x)[0])"
   ]
  },
  {
   "cell_type": "code",
   "execution_count": 12,
   "metadata": {
    "collapsed": true
   },
   "outputs": [],
   "source": [
    "x['eventid']=Data['eventid']"
   ]
  },
  {
   "cell_type": "code",
   "execution_count": 13,
   "metadata": {
    "collapsed": false
   },
   "outputs": [],
   "source": [
    "Data.drop(Categ,axis=1,inplace=True)"
   ]
  },
  {
   "cell_type": "code",
   "execution_count": 14,
   "metadata": {
    "collapsed": false
   },
   "outputs": [
    {
     "data": {
      "text/plain": [
       "(170350, 42)"
      ]
     },
     "execution_count": 14,
     "metadata": {},
     "output_type": "execute_result"
    }
   ],
   "source": [
    "Data.shape"
   ]
  },
  {
   "cell_type": "code",
   "execution_count": 15,
   "metadata": {
    "collapsed": false
   },
   "outputs": [],
   "source": [
    "Data_final = Data.merge(x, on='eventid', how='left')"
   ]
  },
  {
   "cell_type": "code",
   "execution_count": 16,
   "metadata": {
    "collapsed": false
   },
   "outputs": [
    {
     "data": {
      "text/html": [
       "<div>\n",
       "<table border=\"1\" class=\"dataframe\">\n",
       "  <thead>\n",
       "    <tr style=\"text-align: right;\">\n",
       "      <th></th>\n",
       "      <th>eventid</th>\n",
       "      <th>iyear</th>\n",
       "      <th>imonth</th>\n",
       "      <th>iday</th>\n",
       "      <th>extended</th>\n",
       "      <th>country</th>\n",
       "      <th>region</th>\n",
       "      <th>latitude</th>\n",
       "      <th>longitude</th>\n",
       "      <th>specificity</th>\n",
       "      <th>...</th>\n",
       "      <th>INT_ANY</th>\n",
       "      <th>provstate</th>\n",
       "      <th>city</th>\n",
       "      <th>summary</th>\n",
       "      <th>corp1</th>\n",
       "      <th>target1</th>\n",
       "      <th>gname</th>\n",
       "      <th>weapdetail</th>\n",
       "      <th>scite1</th>\n",
       "      <th>dbsource</th>\n",
       "    </tr>\n",
       "  </thead>\n",
       "  <tbody>\n",
       "    <tr>\n",
       "      <th>0</th>\n",
       "      <td>197000000001</td>\n",
       "      <td>1970</td>\n",
       "      <td>7</td>\n",
       "      <td>2</td>\n",
       "      <td>0</td>\n",
       "      <td>58</td>\n",
       "      <td>2</td>\n",
       "      <td>18.456792</td>\n",
       "      <td>-69.951164</td>\n",
       "      <td>1.0</td>\n",
       "      <td>...</td>\n",
       "      <td>0</td>\n",
       "      <td>-1</td>\n",
       "      <td>0</td>\n",
       "      <td>-1</td>\n",
       "      <td>-1</td>\n",
       "      <td>0</td>\n",
       "      <td>0</td>\n",
       "      <td>-1</td>\n",
       "      <td>-1</td>\n",
       "      <td>0</td>\n",
       "    </tr>\n",
       "    <tr>\n",
       "      <th>1</th>\n",
       "      <td>197000000002</td>\n",
       "      <td>1970</td>\n",
       "      <td>0</td>\n",
       "      <td>0</td>\n",
       "      <td>0</td>\n",
       "      <td>130</td>\n",
       "      <td>1</td>\n",
       "      <td>19.432608</td>\n",
       "      <td>-99.133207</td>\n",
       "      <td>1.0</td>\n",
       "      <td>...</td>\n",
       "      <td>1</td>\n",
       "      <td>-1</td>\n",
       "      <td>1</td>\n",
       "      <td>-1</td>\n",
       "      <td>0</td>\n",
       "      <td>1</td>\n",
       "      <td>1</td>\n",
       "      <td>-1</td>\n",
       "      <td>-1</td>\n",
       "      <td>0</td>\n",
       "    </tr>\n",
       "    <tr>\n",
       "      <th>2</th>\n",
       "      <td>197001000001</td>\n",
       "      <td>1970</td>\n",
       "      <td>1</td>\n",
       "      <td>0</td>\n",
       "      <td>0</td>\n",
       "      <td>160</td>\n",
       "      <td>5</td>\n",
       "      <td>15.478598</td>\n",
       "      <td>120.599741</td>\n",
       "      <td>4.0</td>\n",
       "      <td>...</td>\n",
       "      <td>1</td>\n",
       "      <td>0</td>\n",
       "      <td>2</td>\n",
       "      <td>-1</td>\n",
       "      <td>1</td>\n",
       "      <td>2</td>\n",
       "      <td>2</td>\n",
       "      <td>-1</td>\n",
       "      <td>-1</td>\n",
       "      <td>0</td>\n",
       "    </tr>\n",
       "    <tr>\n",
       "      <th>3</th>\n",
       "      <td>197001000002</td>\n",
       "      <td>1970</td>\n",
       "      <td>1</td>\n",
       "      <td>0</td>\n",
       "      <td>0</td>\n",
       "      <td>78</td>\n",
       "      <td>8</td>\n",
       "      <td>37.983773</td>\n",
       "      <td>23.728157</td>\n",
       "      <td>1.0</td>\n",
       "      <td>...</td>\n",
       "      <td>1</td>\n",
       "      <td>1</td>\n",
       "      <td>3</td>\n",
       "      <td>-1</td>\n",
       "      <td>-1</td>\n",
       "      <td>3</td>\n",
       "      <td>2</td>\n",
       "      <td>0</td>\n",
       "      <td>-1</td>\n",
       "      <td>0</td>\n",
       "    </tr>\n",
       "    <tr>\n",
       "      <th>4</th>\n",
       "      <td>197001000003</td>\n",
       "      <td>1970</td>\n",
       "      <td>1</td>\n",
       "      <td>0</td>\n",
       "      <td>0</td>\n",
       "      <td>101</td>\n",
       "      <td>4</td>\n",
       "      <td>33.580412</td>\n",
       "      <td>130.396361</td>\n",
       "      <td>1.0</td>\n",
       "      <td>...</td>\n",
       "      <td>1</td>\n",
       "      <td>-1</td>\n",
       "      <td>4</td>\n",
       "      <td>-1</td>\n",
       "      <td>-1</td>\n",
       "      <td>4</td>\n",
       "      <td>2</td>\n",
       "      <td>1</td>\n",
       "      <td>-1</td>\n",
       "      <td>0</td>\n",
       "    </tr>\n",
       "    <tr>\n",
       "      <th>5</th>\n",
       "      <td>197001010002</td>\n",
       "      <td>1970</td>\n",
       "      <td>1</td>\n",
       "      <td>1</td>\n",
       "      <td>0</td>\n",
       "      <td>217</td>\n",
       "      <td>1</td>\n",
       "      <td>37.005105</td>\n",
       "      <td>-89.176269</td>\n",
       "      <td>1.0</td>\n",
       "      <td>...</td>\n",
       "      <td>-9</td>\n",
       "      <td>2</td>\n",
       "      <td>5</td>\n",
       "      <td>0</td>\n",
       "      <td>2</td>\n",
       "      <td>5</td>\n",
       "      <td>3</td>\n",
       "      <td>2</td>\n",
       "      <td>0</td>\n",
       "      <td>1</td>\n",
       "    </tr>\n",
       "    <tr>\n",
       "      <th>6</th>\n",
       "      <td>197001020001</td>\n",
       "      <td>1970</td>\n",
       "      <td>1</td>\n",
       "      <td>2</td>\n",
       "      <td>0</td>\n",
       "      <td>218</td>\n",
       "      <td>3</td>\n",
       "      <td>-34.891151</td>\n",
       "      <td>-56.187214</td>\n",
       "      <td>1.0</td>\n",
       "      <td>...</td>\n",
       "      <td>0</td>\n",
       "      <td>3</td>\n",
       "      <td>6</td>\n",
       "      <td>-1</td>\n",
       "      <td>3</td>\n",
       "      <td>6</td>\n",
       "      <td>4</td>\n",
       "      <td>3</td>\n",
       "      <td>-1</td>\n",
       "      <td>0</td>\n",
       "    </tr>\n",
       "    <tr>\n",
       "      <th>7</th>\n",
       "      <td>197001020002</td>\n",
       "      <td>1970</td>\n",
       "      <td>1</td>\n",
       "      <td>2</td>\n",
       "      <td>0</td>\n",
       "      <td>217</td>\n",
       "      <td>1</td>\n",
       "      <td>37.805065</td>\n",
       "      <td>-122.273024</td>\n",
       "      <td>1.0</td>\n",
       "      <td>...</td>\n",
       "      <td>-9</td>\n",
       "      <td>4</td>\n",
       "      <td>7</td>\n",
       "      <td>1</td>\n",
       "      <td>4</td>\n",
       "      <td>7</td>\n",
       "      <td>2</td>\n",
       "      <td>-1</td>\n",
       "      <td>1</td>\n",
       "      <td>1</td>\n",
       "    </tr>\n",
       "    <tr>\n",
       "      <th>8</th>\n",
       "      <td>197001020003</td>\n",
       "      <td>1970</td>\n",
       "      <td>1</td>\n",
       "      <td>2</td>\n",
       "      <td>0</td>\n",
       "      <td>217</td>\n",
       "      <td>1</td>\n",
       "      <td>43.076592</td>\n",
       "      <td>-89.412488</td>\n",
       "      <td>1.0</td>\n",
       "      <td>...</td>\n",
       "      <td>0</td>\n",
       "      <td>5</td>\n",
       "      <td>8</td>\n",
       "      <td>2</td>\n",
       "      <td>5</td>\n",
       "      <td>8</td>\n",
       "      <td>5</td>\n",
       "      <td>4</td>\n",
       "      <td>2</td>\n",
       "      <td>1</td>\n",
       "    </tr>\n",
       "    <tr>\n",
       "      <th>9</th>\n",
       "      <td>197001030001</td>\n",
       "      <td>1970</td>\n",
       "      <td>1</td>\n",
       "      <td>3</td>\n",
       "      <td>0</td>\n",
       "      <td>217</td>\n",
       "      <td>1</td>\n",
       "      <td>43.072950</td>\n",
       "      <td>-89.386694</td>\n",
       "      <td>1.0</td>\n",
       "      <td>...</td>\n",
       "      <td>0</td>\n",
       "      <td>5</td>\n",
       "      <td>8</td>\n",
       "      <td>3</td>\n",
       "      <td>6</td>\n",
       "      <td>9</td>\n",
       "      <td>5</td>\n",
       "      <td>5</td>\n",
       "      <td>1</td>\n",
       "      <td>1</td>\n",
       "    </tr>\n",
       "  </tbody>\n",
       "</table>\n",
       "<p>10 rows × 51 columns</p>\n",
       "</div>"
      ],
      "text/plain": [
       "        eventid  iyear  imonth  iday  extended  country  region   latitude  \\\n",
       "0  197000000001   1970       7     2         0       58       2  18.456792   \n",
       "1  197000000002   1970       0     0         0      130       1  19.432608   \n",
       "2  197001000001   1970       1     0         0      160       5  15.478598   \n",
       "3  197001000002   1970       1     0         0       78       8  37.983773   \n",
       "4  197001000003   1970       1     0         0      101       4  33.580412   \n",
       "5  197001010002   1970       1     1         0      217       1  37.005105   \n",
       "6  197001020001   1970       1     2         0      218       3 -34.891151   \n",
       "7  197001020002   1970       1     2         0      217       1  37.805065   \n",
       "8  197001020003   1970       1     2         0      217       1  43.076592   \n",
       "9  197001030001   1970       1     3         0      217       1  43.072950   \n",
       "\n",
       "    longitude  specificity    ...     INT_ANY  provstate  city  summary  \\\n",
       "0  -69.951164          1.0    ...           0         -1     0       -1   \n",
       "1  -99.133207          1.0    ...           1         -1     1       -1   \n",
       "2  120.599741          4.0    ...           1          0     2       -1   \n",
       "3   23.728157          1.0    ...           1          1     3       -1   \n",
       "4  130.396361          1.0    ...           1         -1     4       -1   \n",
       "5  -89.176269          1.0    ...          -9          2     5        0   \n",
       "6  -56.187214          1.0    ...           0          3     6       -1   \n",
       "7 -122.273024          1.0    ...          -9          4     7        1   \n",
       "8  -89.412488          1.0    ...           0          5     8        2   \n",
       "9  -89.386694          1.0    ...           0          5     8        3   \n",
       "\n",
       "   corp1  target1  gname  weapdetail  scite1  dbsource  \n",
       "0     -1        0      0          -1      -1         0  \n",
       "1      0        1      1          -1      -1         0  \n",
       "2      1        2      2          -1      -1         0  \n",
       "3     -1        3      2           0      -1         0  \n",
       "4     -1        4      2           1      -1         0  \n",
       "5      2        5      3           2       0         1  \n",
       "6      3        6      4           3      -1         0  \n",
       "7      4        7      2          -1       1         1  \n",
       "8      5        8      5           4       2         1  \n",
       "9      6        9      5           5       1         1  \n",
       "\n",
       "[10 rows x 51 columns]"
      ]
     },
     "execution_count": 16,
     "metadata": {},
     "output_type": "execute_result"
    }
   ],
   "source": [
    "Data_final.head(10)"
   ]
  },
  {
   "cell_type": "code",
   "execution_count": 17,
   "metadata": {
    "collapsed": true
   },
   "outputs": [],
   "source": [
    "Data_final=Data_final.fillna(Data_final.mode().iloc[0])"
   ]
  },
  {
   "cell_type": "code",
   "execution_count": 18,
   "metadata": {
    "collapsed": false
   },
   "outputs": [
    {
     "data": {
      "text/plain": [
       "(170350, 51)"
      ]
     },
     "execution_count": 18,
     "metadata": {},
     "output_type": "execute_result"
    }
   ],
   "source": [
    "Data_final.shape"
   ]
  },
  {
   "cell_type": "code",
   "execution_count": 19,
   "metadata": {
    "collapsed": false
   },
   "outputs": [
    {
     "data": {
      "text/plain": [
       "96"
      ]
     },
     "execution_count": 19,
     "metadata": {},
     "output_type": "execute_result"
    }
   ],
   "source": [
    "del Data,x,Categ\n",
    "gc.collect()"
   ]
  },
  {
   "cell_type": "markdown",
   "metadata": {},
   "source": [
    "Appending the rows of the Classes which have only 1 row to the dataset"
   ]
  },
  {
   "cell_type": "code",
   "execution_count": 20,
   "metadata": {
    "collapsed": true
   },
   "outputs": [],
   "source": [
    "z=Data_final['gname'].value_counts().to_frame()\n",
    "M=z['gname'][z['gname']==1]\n",
    "M=M.to_frame()\n",
    "M['groupname']=M.index"
   ]
  },
  {
   "cell_type": "code",
   "execution_count": 21,
   "metadata": {
    "collapsed": true
   },
   "outputs": [],
   "source": [
    "a=Data_final"
   ]
  },
  {
   "cell_type": "code",
   "execution_count": 22,
   "metadata": {
    "collapsed": false
   },
   "outputs": [],
   "source": [
    "#appending 4 times\n",
    "for i in M['groupname']:\n",
    "    A=Data_final['gname']==i\n",
    "    df=Data_final[A]\n",
    "    a=a.append([df]*4,ignore_index=True)"
   ]
  },
  {
   "cell_type": "code",
   "execution_count": 23,
   "metadata": {
    "collapsed": false
   },
   "outputs": [
    {
     "data": {
      "text/plain": [
       "(177122, 51)"
      ]
     },
     "execution_count": 23,
     "metadata": {},
     "output_type": "execute_result"
    }
   ],
   "source": [
    "a.shape"
   ]
  },
  {
   "cell_type": "code",
   "execution_count": 24,
   "metadata": {
    "collapsed": false
   },
   "outputs": [
    {
     "data": {
      "text/html": [
       "<div>\n",
       "<table border=\"1\" class=\"dataframe\">\n",
       "  <thead>\n",
       "    <tr style=\"text-align: right;\">\n",
       "      <th></th>\n",
       "      <th>eventid</th>\n",
       "      <th>iyear</th>\n",
       "      <th>imonth</th>\n",
       "      <th>iday</th>\n",
       "      <th>extended</th>\n",
       "      <th>country</th>\n",
       "      <th>region</th>\n",
       "      <th>latitude</th>\n",
       "      <th>longitude</th>\n",
       "      <th>specificity</th>\n",
       "      <th>...</th>\n",
       "      <th>INT_ANY</th>\n",
       "      <th>provstate</th>\n",
       "      <th>city</th>\n",
       "      <th>summary</th>\n",
       "      <th>corp1</th>\n",
       "      <th>target1</th>\n",
       "      <th>gname</th>\n",
       "      <th>weapdetail</th>\n",
       "      <th>scite1</th>\n",
       "      <th>dbsource</th>\n",
       "    </tr>\n",
       "  </thead>\n",
       "  <tbody>\n",
       "    <tr>\n",
       "      <th>177112</th>\n",
       "      <td>197010080006</td>\n",
       "      <td>1970</td>\n",
       "      <td>10</td>\n",
       "      <td>8</td>\n",
       "      <td>0</td>\n",
       "      <td>362</td>\n",
       "      <td>8</td>\n",
       "      <td>48.777106</td>\n",
       "      <td>9.180769</td>\n",
       "      <td>1.0</td>\n",
       "      <td>...</td>\n",
       "      <td>1</td>\n",
       "      <td>78</td>\n",
       "      <td>198</td>\n",
       "      <td>-1</td>\n",
       "      <td>-1</td>\n",
       "      <td>462</td>\n",
       "      <td>74</td>\n",
       "      <td>0</td>\n",
       "      <td>-1</td>\n",
       "      <td>0</td>\n",
       "    </tr>\n",
       "    <tr>\n",
       "      <th>177113</th>\n",
       "      <td>197010080006</td>\n",
       "      <td>1970</td>\n",
       "      <td>10</td>\n",
       "      <td>8</td>\n",
       "      <td>0</td>\n",
       "      <td>362</td>\n",
       "      <td>8</td>\n",
       "      <td>48.777106</td>\n",
       "      <td>9.180769</td>\n",
       "      <td>1.0</td>\n",
       "      <td>...</td>\n",
       "      <td>1</td>\n",
       "      <td>78</td>\n",
       "      <td>198</td>\n",
       "      <td>-1</td>\n",
       "      <td>-1</td>\n",
       "      <td>462</td>\n",
       "      <td>74</td>\n",
       "      <td>0</td>\n",
       "      <td>-1</td>\n",
       "      <td>0</td>\n",
       "    </tr>\n",
       "    <tr>\n",
       "      <th>177114</th>\n",
       "      <td>199606160007</td>\n",
       "      <td>1996</td>\n",
       "      <td>6</td>\n",
       "      <td>16</td>\n",
       "      <td>1</td>\n",
       "      <td>205</td>\n",
       "      <td>5</td>\n",
       "      <td>33.300000</td>\n",
       "      <td>-77.042791</td>\n",
       "      <td>5.0</td>\n",
       "      <td>...</td>\n",
       "      <td>1</td>\n",
       "      <td>1109</td>\n",
       "      <td>2</td>\n",
       "      <td>-1</td>\n",
       "      <td>1470</td>\n",
       "      <td>24455</td>\n",
       "      <td>2123</td>\n",
       "      <td>81</td>\n",
       "      <td>-1</td>\n",
       "      <td>0</td>\n",
       "    </tr>\n",
       "    <tr>\n",
       "      <th>177115</th>\n",
       "      <td>199606160007</td>\n",
       "      <td>1996</td>\n",
       "      <td>6</td>\n",
       "      <td>16</td>\n",
       "      <td>1</td>\n",
       "      <td>205</td>\n",
       "      <td>5</td>\n",
       "      <td>33.300000</td>\n",
       "      <td>-77.042791</td>\n",
       "      <td>5.0</td>\n",
       "      <td>...</td>\n",
       "      <td>1</td>\n",
       "      <td>1109</td>\n",
       "      <td>2</td>\n",
       "      <td>-1</td>\n",
       "      <td>1470</td>\n",
       "      <td>24455</td>\n",
       "      <td>2123</td>\n",
       "      <td>81</td>\n",
       "      <td>-1</td>\n",
       "      <td>0</td>\n",
       "    </tr>\n",
       "    <tr>\n",
       "      <th>177116</th>\n",
       "      <td>199606160007</td>\n",
       "      <td>1996</td>\n",
       "      <td>6</td>\n",
       "      <td>16</td>\n",
       "      <td>1</td>\n",
       "      <td>205</td>\n",
       "      <td>5</td>\n",
       "      <td>33.300000</td>\n",
       "      <td>-77.042791</td>\n",
       "      <td>5.0</td>\n",
       "      <td>...</td>\n",
       "      <td>1</td>\n",
       "      <td>1109</td>\n",
       "      <td>2</td>\n",
       "      <td>-1</td>\n",
       "      <td>1470</td>\n",
       "      <td>24455</td>\n",
       "      <td>2123</td>\n",
       "      <td>81</td>\n",
       "      <td>-1</td>\n",
       "      <td>0</td>\n",
       "    </tr>\n",
       "    <tr>\n",
       "      <th>177117</th>\n",
       "      <td>199606160007</td>\n",
       "      <td>1996</td>\n",
       "      <td>6</td>\n",
       "      <td>16</td>\n",
       "      <td>1</td>\n",
       "      <td>205</td>\n",
       "      <td>5</td>\n",
       "      <td>33.300000</td>\n",
       "      <td>-77.042791</td>\n",
       "      <td>5.0</td>\n",
       "      <td>...</td>\n",
       "      <td>1</td>\n",
       "      <td>1109</td>\n",
       "      <td>2</td>\n",
       "      <td>-1</td>\n",
       "      <td>1470</td>\n",
       "      <td>24455</td>\n",
       "      <td>2123</td>\n",
       "      <td>81</td>\n",
       "      <td>-1</td>\n",
       "      <td>0</td>\n",
       "    </tr>\n",
       "    <tr>\n",
       "      <th>177118</th>\n",
       "      <td>197000000001</td>\n",
       "      <td>1970</td>\n",
       "      <td>7</td>\n",
       "      <td>2</td>\n",
       "      <td>0</td>\n",
       "      <td>58</td>\n",
       "      <td>2</td>\n",
       "      <td>18.456792</td>\n",
       "      <td>-69.951164</td>\n",
       "      <td>1.0</td>\n",
       "      <td>...</td>\n",
       "      <td>0</td>\n",
       "      <td>-1</td>\n",
       "      <td>0</td>\n",
       "      <td>-1</td>\n",
       "      <td>-1</td>\n",
       "      <td>0</td>\n",
       "      <td>0</td>\n",
       "      <td>-1</td>\n",
       "      <td>-1</td>\n",
       "      <td>0</td>\n",
       "    </tr>\n",
       "    <tr>\n",
       "      <th>177119</th>\n",
       "      <td>197000000001</td>\n",
       "      <td>1970</td>\n",
       "      <td>7</td>\n",
       "      <td>2</td>\n",
       "      <td>0</td>\n",
       "      <td>58</td>\n",
       "      <td>2</td>\n",
       "      <td>18.456792</td>\n",
       "      <td>-69.951164</td>\n",
       "      <td>1.0</td>\n",
       "      <td>...</td>\n",
       "      <td>0</td>\n",
       "      <td>-1</td>\n",
       "      <td>0</td>\n",
       "      <td>-1</td>\n",
       "      <td>-1</td>\n",
       "      <td>0</td>\n",
       "      <td>0</td>\n",
       "      <td>-1</td>\n",
       "      <td>-1</td>\n",
       "      <td>0</td>\n",
       "    </tr>\n",
       "    <tr>\n",
       "      <th>177120</th>\n",
       "      <td>197000000001</td>\n",
       "      <td>1970</td>\n",
       "      <td>7</td>\n",
       "      <td>2</td>\n",
       "      <td>0</td>\n",
       "      <td>58</td>\n",
       "      <td>2</td>\n",
       "      <td>18.456792</td>\n",
       "      <td>-69.951164</td>\n",
       "      <td>1.0</td>\n",
       "      <td>...</td>\n",
       "      <td>0</td>\n",
       "      <td>-1</td>\n",
       "      <td>0</td>\n",
       "      <td>-1</td>\n",
       "      <td>-1</td>\n",
       "      <td>0</td>\n",
       "      <td>0</td>\n",
       "      <td>-1</td>\n",
       "      <td>-1</td>\n",
       "      <td>0</td>\n",
       "    </tr>\n",
       "    <tr>\n",
       "      <th>177121</th>\n",
       "      <td>197000000001</td>\n",
       "      <td>1970</td>\n",
       "      <td>7</td>\n",
       "      <td>2</td>\n",
       "      <td>0</td>\n",
       "      <td>58</td>\n",
       "      <td>2</td>\n",
       "      <td>18.456792</td>\n",
       "      <td>-69.951164</td>\n",
       "      <td>1.0</td>\n",
       "      <td>...</td>\n",
       "      <td>0</td>\n",
       "      <td>-1</td>\n",
       "      <td>0</td>\n",
       "      <td>-1</td>\n",
       "      <td>-1</td>\n",
       "      <td>0</td>\n",
       "      <td>0</td>\n",
       "      <td>-1</td>\n",
       "      <td>-1</td>\n",
       "      <td>0</td>\n",
       "    </tr>\n",
       "  </tbody>\n",
       "</table>\n",
       "<p>10 rows × 51 columns</p>\n",
       "</div>"
      ],
      "text/plain": [
       "             eventid  iyear  imonth  iday  extended  country  region  \\\n",
       "177112  197010080006   1970      10     8         0      362       8   \n",
       "177113  197010080006   1970      10     8         0      362       8   \n",
       "177114  199606160007   1996       6    16         1      205       5   \n",
       "177115  199606160007   1996       6    16         1      205       5   \n",
       "177116  199606160007   1996       6    16         1      205       5   \n",
       "177117  199606160007   1996       6    16         1      205       5   \n",
       "177118  197000000001   1970       7     2         0       58       2   \n",
       "177119  197000000001   1970       7     2         0       58       2   \n",
       "177120  197000000001   1970       7     2         0       58       2   \n",
       "177121  197000000001   1970       7     2         0       58       2   \n",
       "\n",
       "         latitude  longitude  specificity    ...     INT_ANY  provstate  city  \\\n",
       "177112  48.777106   9.180769          1.0    ...           1         78   198   \n",
       "177113  48.777106   9.180769          1.0    ...           1         78   198   \n",
       "177114  33.300000 -77.042791          5.0    ...           1       1109     2   \n",
       "177115  33.300000 -77.042791          5.0    ...           1       1109     2   \n",
       "177116  33.300000 -77.042791          5.0    ...           1       1109     2   \n",
       "177117  33.300000 -77.042791          5.0    ...           1       1109     2   \n",
       "177118  18.456792 -69.951164          1.0    ...           0         -1     0   \n",
       "177119  18.456792 -69.951164          1.0    ...           0         -1     0   \n",
       "177120  18.456792 -69.951164          1.0    ...           0         -1     0   \n",
       "177121  18.456792 -69.951164          1.0    ...           0         -1     0   \n",
       "\n",
       "        summary  corp1  target1  gname  weapdetail  scite1  dbsource  \n",
       "177112       -1     -1      462     74           0      -1         0  \n",
       "177113       -1     -1      462     74           0      -1         0  \n",
       "177114       -1   1470    24455   2123          81      -1         0  \n",
       "177115       -1   1470    24455   2123          81      -1         0  \n",
       "177116       -1   1470    24455   2123          81      -1         0  \n",
       "177117       -1   1470    24455   2123          81      -1         0  \n",
       "177118       -1     -1        0      0          -1      -1         0  \n",
       "177119       -1     -1        0      0          -1      -1         0  \n",
       "177120       -1     -1        0      0          -1      -1         0  \n",
       "177121       -1     -1        0      0          -1      -1         0  \n",
       "\n",
       "[10 rows x 51 columns]"
      ]
     },
     "execution_count": 24,
     "metadata": {},
     "output_type": "execute_result"
    }
   ],
   "source": [
    "a.tail(10)"
   ]
  },
  {
   "cell_type": "code",
   "execution_count": 25,
   "metadata": {
    "collapsed": true
   },
   "outputs": [],
   "source": [
    "Data_final=a"
   ]
  },
  {
   "cell_type": "code",
   "execution_count": 26,
   "metadata": {
    "collapsed": false
   },
   "outputs": [
    {
     "data": {
      "text/plain": [
       "186"
      ]
     },
     "execution_count": 26,
     "metadata": {},
     "output_type": "execute_result"
    }
   ],
   "source": [
    "del M,z,A,df,a\n",
    "gc.collect()"
   ]
  },
  {
   "cell_type": "markdown",
   "metadata": {},
   "source": [
    "# Model selection"
   ]
  },
  {
   "cell_type": "code",
   "execution_count": 27,
   "metadata": {
    "collapsed": false
   },
   "outputs": [],
   "source": [
    "y=Data_final['gname']"
   ]
  },
  {
   "cell_type": "code",
   "execution_count": 28,
   "metadata": {
    "collapsed": false
   },
   "outputs": [],
   "source": [
    "X=Data_final.drop(['gname'],axis=1)"
   ]
  },
  {
   "cell_type": "code",
   "execution_count": 29,
   "metadata": {
    "collapsed": false
   },
   "outputs": [],
   "source": [
    "from sklearn.model_selection import train_test_split\n",
    "X_train, X_test, y_train, y_test = train_test_split(X, y,stratify=y,random_state=42)"
   ]
  },
  {
   "cell_type": "code",
   "execution_count": 30,
   "metadata": {
    "collapsed": false
   },
   "outputs": [],
   "source": [
    "#from sklearn.model_selection import GridSearchCV\n",
    "#param_grid = { 'n_estimators': [10,20,30],'max_features': ['auto','log2'] }\n",
    "#forest = RandomForestClassifier()\n",
    "#grid_search = GridSearchCV(forest, param_grid, cv=5,n_jobs=8)\n",
    "#grid_search.fit(X_train, y_train)\n",
    "#print(\"Train set score: {:.2f}\".format(grid_search.score(X_train, y_train)))\n",
    "#print(\"Test set score: {:.2f}\".format(grid_search.score(X_test, y_test)))"
   ]
  },
  {
   "cell_type": "code",
   "execution_count": 31,
   "metadata": {
    "collapsed": false
   },
   "outputs": [],
   "source": [
    "forest = RandomForestClassifier(n_estimators=50,n_jobs =-1,random_state=2)\n",
    "forest.fit(X_train, y_train)\n",
    "importances = forest.feature_importances_"
   ]
  },
  {
   "cell_type": "code",
   "execution_count": 32,
   "metadata": {
    "collapsed": true
   },
   "outputs": [],
   "source": [
    "std = np.std([tree.feature_importances_ for tree in forest.estimators_],\n",
    "             axis=0)\n",
    "indices = np.argsort(importances)[::-1]"
   ]
  },
  {
   "cell_type": "code",
   "execution_count": 33,
   "metadata": {
    "collapsed": true
   },
   "outputs": [],
   "source": [
    "dic ={}\n",
    "a =list(X.columns)\n",
    "for i in range(len(a)):\n",
    "    dic[i]=a[i]"
   ]
  },
  {
   "cell_type": "code",
   "execution_count": 42,
   "metadata": {
    "collapsed": false,
    "scrolled": true
   },
   "outputs": [
    {
     "name": "stdout",
     "output_type": "stream",
     "text": [
      "Feature ranking:\n",
      "1. feature INT_LOG (0.100440)\n",
      "2. feature INT_IDEO (0.095312)\n",
      "3. feature country (0.074676)\n",
      "4. feature longitude (0.073547)\n",
      "5. feature latitude (0.071223)\n",
      "6. feature INT_ANY (0.065551)\n",
      "7. feature natlty1 (0.059593)\n",
      "8. feature eventid (0.044205)\n",
      "9. feature provstate (0.035047)\n",
      "10. feature region (0.034893)\n",
      "11. feature iyear (0.025625)\n",
      "12. feature target1 (0.024661)\n",
      "13. feature city (0.024549)\n",
      "14. feature targsubtype1 (0.019463)\n",
      "15. feature iday (0.018400)\n",
      "16. feature corp1 (0.017658)\n",
      "17. feature scite1 (0.017592)\n",
      "18. feature summary (0.016965)\n",
      "19. feature imonth (0.016470)\n",
      "20. feature targtype1 (0.013757)\n",
      "21. feature weapdetail (0.013224)\n",
      "22. feature guncertain1 (0.012204)\n",
      "23. feature claimed (0.011898)\n",
      "24. feature weapsubtype1 (0.011451)\n",
      "25. feature nkill (0.010642)\n",
      "26. feature attacktype1 (0.010628)\n",
      "27. feature dbsource (0.010250)\n",
      "28. feature weaptype1 (0.008278)\n",
      "29. feature nwound (0.007479)\n",
      "30. feature doubtterr (0.007392)\n",
      "31. feature nperps (0.007107)\n",
      "32. feature INT_MISC (0.006999)\n",
      "33. feature property (0.005059)\n",
      "34. feature specificity (0.005026)\n",
      "35. feature multiple (0.004445)\n",
      "36. feature ishostkid (0.002454)\n",
      "37. feature crit3 (0.002310)\n",
      "38. feature success (0.002169)\n",
      "39. feature nperpcap (0.002127)\n",
      "40. feature vicinity (0.001648)\n",
      "41. feature nkillter (0.001492)\n",
      "42. feature extended (0.001443)\n",
      "43. feature ransom (0.001106)\n",
      "44. feature individual (0.000769)\n",
      "45. feature crit2 (0.000665)\n",
      "46. feature suicide (0.000610)\n",
      "47. feature crit1 (0.000435)\n",
      "48. feature nwoundte (0.000388)\n",
      "49. feature nkillus (0.000363)\n",
      "50. feature nwoundus (0.000313)\n"
     ]
    },
    {
     "data": {
      "image/png": "[encoded data removed]",
      "text/plain": [
       "<matplotlib.figure.Figure at 0x7f47e0ac99b0>"
      ]
     },
     "metadata": {},
     "output_type": "display_data"
    }
   ],
   "source": [
    "print(\"Feature ranking:\")\n",
    "\n",
    "for f in range(X_train.shape[1]):\n",
    "    print(\"%d. feature %s (%f)\" % (f + 1, dic[int(indices[f])], importances[indices[f]]))\n",
    "\n",
    "# Plotting the feature importances of the forest    \n",
    "plt.figure()\n",
    "plt.title(\"Feature importances\")\n",
    "plt.bar(range(X_train.shape[1]), importances[indices],\n",
    "       color=\"r\", yerr=std[indices], align=\"center\")\n",
    "plt.xticks(range(X_train.shape[1]), indices)\n",
    "plt.xlim([-1, X_train.shape[1]])\n",
    "plt.show()"
   ]
  },
  {
   "cell_type": "code",
   "execution_count": 35,
   "metadata": {
    "collapsed": false
   },
   "outputs": [],
   "source": [
    "l=[]\n",
    "for i in range(30):\n",
    "    l.append(dic[indices[-i-1]])"
   ]
  },
  {
   "cell_type": "code",
   "execution_count": 36,
   "metadata": {
    "collapsed": false
   },
   "outputs": [
    {
     "data": {
      "text/plain": [
       "['nwoundus',\n",
       " 'nkillus',\n",
       " 'nwoundte',\n",
       " 'crit1',\n",
       " 'suicide',\n",
       " 'crit2',\n",
       " 'individual',\n",
       " 'ransom',\n",
       " 'extended',\n",
       " 'nkillter',\n",
       " 'vicinity',\n",
       " 'success',\n",
       " 'nperpcap',\n",
       " 'crit3',\n",
       " 'ishostkid',\n",
       " 'multiple',\n",
       " 'specificity',\n",
       " 'property',\n",
       " 'INT_MISC',\n",
       " 'nperps',\n",
       " 'nwound',\n",
       " 'doubtterr',\n",
       " 'weaptype1',\n",
       " 'nkill',\n",
       " 'attacktype1',\n",
       " 'guncertain1',\n",
       " 'dbsource',\n",
       " 'weapsubtype1',\n",
       " 'claimed',\n",
       " 'weapdetail']"
      ]
     },
     "execution_count": 36,
     "metadata": {},
     "output_type": "execute_result"
    }
   ],
   "source": [
    "l"
   ]
  },
  {
   "cell_type": "markdown",
   "metadata": {},
   "source": [
    "# Evaluation metrics"
   ]
  },
  {
   "cell_type": "code",
   "execution_count": 37,
   "metadata": {
    "collapsed": false
   },
   "outputs": [
    {
     "data": {
      "text/plain": [
       "0.9068675052505589"
      ]
     },
     "execution_count": 37,
     "metadata": {},
     "output_type": "execute_result"
    }
   ],
   "source": [
    "from sklearn.metrics import accuracy_score, auc, roc_curve\n",
    "y_pred =forest.predict(X_test)\n",
    "accuracy_score(y_test,y_pred)"
   ]
  },
  {
   "cell_type": "code",
   "execution_count": 38,
   "metadata": {
    "collapsed": false
   },
   "outputs": [],
   "source": [
    "from sklearn.metrics import classification_report\n",
    "from scipy import interp\n",
    "from  sklearn.metrics import precision_recall_fscore_support\n",
    "from sklearn.preprocessing import LabelBinarizer"
   ]
  },
  {
   "cell_type": "markdown",
   "metadata": {},
   "source": [
    "A function which outputs roc-auc for each class along with precision, recall"
   ]
  },
  {
   "cell_type": "code",
   "execution_count": 39,
   "metadata": {
    "collapsed": false
   },
   "outputs": [],
   "source": [
    "def class_report(y_true, y_pred, y_score=None, average='micro'):\n",
    "    if y_true.shape != y_pred.shape:\n",
    "        print(\"Error! y_true %s is not the same shape as y_pred %s\" % (\n",
    "              y_true.shape,\n",
    "              y_pred.shape)\n",
    "        )\n",
    "        return\n",
    "\n",
    "    lb = LabelBinarizer()\n",
    "\n",
    "    if len(y_true.shape) == 1:\n",
    "        lb.fit(y_true)\n",
    "\n",
    "    #Value counts of predictions\n",
    "    labels, cnt = np.unique(\n",
    "        y_pred,\n",
    "        return_counts=True)\n",
    "    n_classes = len(labels)\n",
    "    pred_cnt = pd.Series(cnt, index=labels)\n",
    "\n",
    "    metrics_summary = precision_recall_fscore_support(\n",
    "            y_true=y_true,\n",
    "            y_pred=y_pred,\n",
    "            labels=labels)\n",
    "\n",
    "    avg = list(precision_recall_fscore_support(\n",
    "            y_true=y_true, \n",
    "            y_pred=y_pred,\n",
    "            average='weighted'))\n",
    "\n",
    "    metrics_sum_index = ['precision', 'recall', 'f1-score', 'support']\n",
    "    class_report_df = pd.DataFrame(\n",
    "        list(metrics_summary),\n",
    "        index=metrics_sum_index,\n",
    "        columns=labels)\n",
    "\n",
    "    support = class_report_df.loc['support']\n",
    "    total = support.sum() \n",
    "    class_report_df['avg / total'] = avg[:-1] + [total]\n",
    "\n",
    "    class_report_df = class_report_df.T\n",
    "    class_report_df['pred'] = pred_cnt\n",
    "    class_report_df['pred'].iloc[-1] = total\n",
    "\n",
    "    if not (y_score is None):\n",
    "        fpr = dict()\n",
    "        tpr = dict()\n",
    "        roc_auc = dict()\n",
    "        for label_it, label in enumerate(labels):\n",
    "            fpr[label], tpr[label], _ = roc_curve(\n",
    "                (y_true == label).astype(int), \n",
    "                y_score[:, label_it])\n",
    "\n",
    "            roc_auc[label] = auc(fpr[label], tpr[label])\n",
    "\n",
    "        if average == 'micro':\n",
    "            if n_classes <= 2:\n",
    "                fpr[\"avg / total\"], tpr[\"avg / total\"], _ = roc_curve(\n",
    "                    lb.transform(y_true).ravel(), \n",
    "                    y_score[:, 1].ravel())\n",
    "            else:\n",
    "                fpr[\"avg / total\"], tpr[\"avg / total\"], _ = roc_curve(\n",
    "                        lb.transform(y_true).ravel(), \n",
    "                        y_score.ravel())\n",
    "\n",
    "            roc_auc[\"avg / total\"] = auc(\n",
    "                fpr[\"avg / total\"], \n",
    "                tpr[\"avg / total\"])\n",
    "\n",
    "        elif average == 'macro':\n",
    "            # First aggregate all false positive rates\n",
    "            all_fpr = np.unique(np.concatenate([\n",
    "                fpr[i] for i in labels]\n",
    "            ))\n",
    "\n",
    "            # Then interpolate all ROC curves at this points\n",
    "            mean_tpr = np.zeros_like(all_fpr)\n",
    "            for i in labels:\n",
    "                mean_tpr += interp(all_fpr, fpr[i], tpr[i])\n",
    "\n",
    "            # Finally average it and compute AUC\n",
    "            mean_tpr /= n_classes\n",
    "\n",
    "            fpr[\"macro\"] = all_fpr\n",
    "            tpr[\"macro\"] = mean_tpr\n",
    "\n",
    "            roc_auc[\"avg / total\"] = auc(fpr[\"macro\"], tpr[\"macro\"])\n",
    "\n",
    "        class_report_df['AUC'] = pd.Series(roc_auc)\n",
    "\n",
    "    return class_report_df"
   ]
  },
  {
   "cell_type": "code",
   "execution_count": 40,
   "metadata": {
    "collapsed": false
   },
   "outputs": [
    {
     "name": "stderr",
     "output_type": "stream",
     "text": [
      "/home/miriyalamanideep92/anaconda3/lib/python3.5/site-packages/sklearn/metrics/classification.py:1135: UndefinedMetricWarning: Precision and F-score are ill-defined and being set to 0.0 in labels with no predicted samples.\n",
      "  'precision', 'predicted', average, warn_for)\n"
     ]
    }
   ],
   "source": [
    "report_with_auc = class_report(\n",
    "    y_true=y_test, \n",
    "    y_pred=y_pred, \n",
    "    y_score=forest.predict_proba(X_test))"
   ]
  },
  {
   "cell_type": "code",
   "execution_count": 41,
   "metadata": {
    "collapsed": false
   },
   "outputs": [
    {
     "data": {
      "text/html": [
       "<div>\n",
       "<table border=\"1\" class=\"dataframe\">\n",
       "  <thead>\n",
       "    <tr style=\"text-align: right;\">\n",
       "      <th></th>\n",
       "      <th>precision</th>\n",
       "      <th>recall</th>\n",
       "      <th>f1-score</th>\n",
       "      <th>support</th>\n",
       "      <th>pred</th>\n",
       "      <th>AUC</th>\n",
       "    </tr>\n",
       "  </thead>\n",
       "  <tbody>\n",
       "    <tr>\n",
       "      <th>3450</th>\n",
       "      <td>1.000000</td>\n",
       "      <td>1.000000</td>\n",
       "      <td>1.000000</td>\n",
       "      <td>1.0</td>\n",
       "      <td>1.0</td>\n",
       "      <td>0.499819</td>\n",
       "    </tr>\n",
       "    <tr>\n",
       "      <th>3451</th>\n",
       "      <td>1.000000</td>\n",
       "      <td>1.000000</td>\n",
       "      <td>1.000000</td>\n",
       "      <td>1.0</td>\n",
       "      <td>1.0</td>\n",
       "      <td>0.499706</td>\n",
       "    </tr>\n",
       "    <tr>\n",
       "      <th>3452</th>\n",
       "      <td>1.000000</td>\n",
       "      <td>1.000000</td>\n",
       "      <td>1.000000</td>\n",
       "      <td>1.0</td>\n",
       "      <td>1.0</td>\n",
       "      <td>0.498927</td>\n",
       "    </tr>\n",
       "    <tr>\n",
       "      <th>3453</th>\n",
       "      <td>1.000000</td>\n",
       "      <td>1.000000</td>\n",
       "      <td>1.000000</td>\n",
       "      <td>1.0</td>\n",
       "      <td>1.0</td>\n",
       "      <td>0.499955</td>\n",
       "    </tr>\n",
       "    <tr>\n",
       "      <th>avg / total</th>\n",
       "      <td>0.887201</td>\n",
       "      <td>0.906868</td>\n",
       "      <td>0.891014</td>\n",
       "      <td>43319.0</td>\n",
       "      <td>43319.0</td>\n",
       "      <td>0.989028</td>\n",
       "    </tr>\n",
       "  </tbody>\n",
       "</table>\n",
       "</div>"
      ],
      "text/plain": [
       "             precision    recall  f1-score  support     pred       AUC\n",
       "3450          1.000000  1.000000  1.000000      1.0      1.0  0.499819\n",
       "3451          1.000000  1.000000  1.000000      1.0      1.0  0.499706\n",
       "3452          1.000000  1.000000  1.000000      1.0      1.0  0.498927\n",
       "3453          1.000000  1.000000  1.000000      1.0      1.0  0.499955\n",
       "avg / total   0.887201  0.906868  0.891014  43319.0  43319.0  0.989028"
      ]
     },
     "execution_count": 41,
     "metadata": {},
     "output_type": "execute_result"
    }
   ],
   "source": [
    "report_with_auc.tail()"
   ]
  },
  {
   "cell_type": "code",
   "execution_count": 42,
   "metadata": {
    "collapsed": false
   },
   "outputs": [],
   "source": [
    "#import xgboost as xgb\n",
    "#X.drop(l,axis=1,inplace= True)\n",
    "#X_train, X_test, y_train, y_test = train_test_split(X, y,stratify=y,random_state=42)"
   ]
  },
  {
   "cell_type": "code",
   "execution_count": 43,
   "metadata": {
    "collapsed": false
   },
   "outputs": [],
   "source": [
    "#X_train1=X_train.values\n",
    "#y_train1=y_train.values\n",
    "#X_test1=X_test.values\n",
    "#y_test1=y_test.values"
   ]
  },
  {
   "cell_type": "code",
   "execution_count": 44,
   "metadata": {
    "collapsed": true
   },
   "outputs": [],
   "source": [
    "#xgb_model = xgb.XGBClassifier( learning_rate=0.2,\n",
    " #   objective='multi:softmax')\n",
    "#xgb_model.fit(X_train1, y_train1, eval_metric='mlogloss')\n",
    "#predictions = xgb_model.predict(X_test1)\n",
    "#actuals = y_test1\n",
    "#accuracy_score(actuals, predictions)"
   ]
  },
  {
   "cell_type": "code",
   "execution_count": null,
   "metadata": {
    "collapsed": true
   },
   "outputs": [],
   "source": []
  }
 ],
 "metadata": {
  "kernelspec": {
   "display_name": "Python 3",
   "language": "python",
   "name": "python3"
  },
  "language_info": {
   "codemirror_mode": {
    "name": "ipython",
    "version": 3
   },
   "file_extension": ".py",
   "mimetype": "text/x-python",
   "name": "python",
   "nbconvert_exporter": "python",
   "pygments_lexer": "ipython3",
   "version": "3.5.1"
  }
 },
 "nbformat": 4,
 "nbformat_minor": 0
}
